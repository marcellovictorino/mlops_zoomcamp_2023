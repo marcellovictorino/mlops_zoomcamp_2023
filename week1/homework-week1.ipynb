{
 "cells": [
  {
   "cell_type": "code",
   "execution_count": 3,
   "id": "fc71265d",
   "metadata": {},
   "outputs": [
    {
     "name": "stdout",
     "output_type": "stream",
     "text": [
      "\n",
      "\u001b[1m[\u001b[0m\u001b[34;49mnotice\u001b[0m\u001b[1;39;49m]\u001b[0m\u001b[39;49m A new release of pip available: \u001b[0m\u001b[31;49m22.3\u001b[0m\u001b[39;49m -> \u001b[0m\u001b[32;49m23.1.2\u001b[0m\n",
      "\u001b[1m[\u001b[0m\u001b[34;49mnotice\u001b[0m\u001b[1;39;49m]\u001b[0m\u001b[39;49m To update, run: \u001b[0m\u001b[32;49mpip install --upgrade pip\u001b[0m\n"
     ]
    }
   ],
   "source": [
    "!pip install pandas pyarrow scikit-learn -q"
   ]
  },
  {
   "cell_type": "code",
   "execution_count": 8,
   "id": "e188db57",
   "metadata": {
    "scrolled": true
   },
   "outputs": [
    {
     "name": "stdout",
     "output_type": "stream",
     "text": [
      "--2023-06-12 15:30:13--  https://d37ci6vzurychx.cloudfront.net/trip-data/green_tripdata_2023-03.parquet\n",
      "Resolving d37ci6vzurychx.cloudfront.net (d37ci6vzurychx.cloudfront.net)... 2600:9000:2550:6600:b:20a5:b140:21, 2600:9000:2550:fc00:b:20a5:b140:21, 2600:9000:2550:8800:b:20a5:b140:21, ...\n",
      "Connecting to d37ci6vzurychx.cloudfront.net (d37ci6vzurychx.cloudfront.net)|2600:9000:2550:6600:b:20a5:b140:21|:443... connected.\n",
      "HTTP request sent, awaiting response... 200 OK\n",
      "Length: 1730999 (1.7M) [binary/octet-stream]\n",
      "Saving to: ‘green_tripdata_2023-03.parquet’\n",
      "\n",
      "green_tripdata_2023 100%[===================>]   1.65M  --.-KB/s    in 0.1s    \n",
      "\n",
      "2023-06-12 15:30:13 (13.3 MB/s) - ‘green_tripdata_2023-03.parquet’ saved [1730999/1730999]\n",
      "\n"
     ]
    }
   ],
   "source": [
    "!wget https://d37ci6vzurychx.cloudfront.net/trip-data/green_tripdata_2023-03.parquet"
   ]
  },
  {
   "cell_type": "code",
   "execution_count": 5,
   "id": "13dd9451",
   "metadata": {},
   "outputs": [],
   "source": [
    "import pandas as pd\n",
    "\n",
    "\n",
    "df = pd.read_parquet('yellow_tripdata_2022-01.parquet')"
   ]
  },
  {
   "attachments": {},
   "cell_type": "markdown",
   "id": "13131642",
   "metadata": {},
   "source": [
    "Q1) Total number of columns  \n",
    "A: 19"
   ]
  },
  {
   "cell_type": "code",
   "execution_count": 6,
   "id": "0c5f0553",
   "metadata": {},
   "outputs": [
    {
     "data": {
      "text/plain": [
       "19"
      ]
     },
     "execution_count": 6,
     "metadata": {},
     "output_type": "execute_result"
    }
   ],
   "source": [
    "len(df.columns)"
   ]
  },
  {
   "attachments": {},
   "cell_type": "markdown",
   "id": "be810c7c",
   "metadata": {},
   "source": [
    "Q2) Standard deviation of trip duration, in minutes  \n",
    "A: 46.45 min"
   ]
  },
  {
   "cell_type": "code",
   "execution_count": 7,
   "id": "fc33e3fa",
   "metadata": {},
   "outputs": [],
   "source": [
    "df['duration'] = df.tpep_dropoff_datetime - df.tpep_pickup_datetime\n",
    "df.duration = df.duration.apply(lambda td: td.total_seconds() / 60)"
   ]
  },
  {
   "cell_type": "code",
   "execution_count": 8,
   "id": "a226b741",
   "metadata": {},
   "outputs": [
    {
     "data": {
      "text/plain": [
       "46.44530513776802"
      ]
     },
     "execution_count": 8,
     "metadata": {},
     "output_type": "execute_result"
    }
   ],
   "source": [
    "df.duration.std()"
   ]
  },
  {
   "attachments": {},
   "cell_type": "markdown",
   "id": "d39d1502",
   "metadata": {},
   "source": [
    "Q3) Outliers, fraction of records left after dropping\n",
    "A: 98%"
   ]
  },
  {
   "cell_type": "code",
   "execution_count": 9,
   "id": "fc819b28",
   "metadata": {},
   "outputs": [
    {
     "data": {
      "text/plain": [
       "0.9827547930522406"
      ]
     },
     "execution_count": 9,
     "metadata": {},
     "output_type": "execute_result"
    }
   ],
   "source": [
    "df_clean = df[(df.duration >= 1) & (df.duration <= 60)]\n",
    "df_clean.shape[0] / df.shape[0]"
   ]
  },
  {
   "attachments": {},
   "cell_type": "markdown",
   "id": "fd997810",
   "metadata": {},
   "source": [
    "Q4) One-hot encoding, dimensionality of matrix  \n",
    "A: 515 columns"
   ]
  },
  {
   "cell_type": "code",
   "execution_count": 10,
   "id": "fc6c61b5",
   "metadata": {},
   "outputs": [
    {
     "name": "stderr",
     "output_type": "stream",
     "text": [
      "/var/folders/w5/103dbchj5sb_529bq4km5drc0000gp/T/ipykernel_77471/1058706765.py:2: SettingWithCopyWarning: \n",
      "A value is trying to be set on a copy of a slice from a DataFrame.\n",
      "Try using .loc[row_indexer,col_indexer] = value instead\n",
      "\n",
      "See the caveats in the documentation: https://pandas.pydata.org/pandas-docs/stable/user_guide/indexing.html#returning-a-view-versus-a-copy\n",
      "  df_clean[categorical] = df_clean[categorical].astype(str)\n"
     ]
    }
   ],
   "source": [
    "categorical = ['PULocationID', 'DOLocationID']\n",
    "df_clean[categorical] = df_clean[categorical].astype(str)"
   ]
  },
  {
   "cell_type": "code",
   "execution_count": 11,
   "id": "fba88728",
   "metadata": {},
   "outputs": [
    {
     "data": {
      "text/plain": [
       "list"
      ]
     },
     "execution_count": 11,
     "metadata": {},
     "output_type": "execute_result"
    }
   ],
   "source": [
    "df_train = df_clean[categorical]\n",
    "train_dicts = df_train.to_dict(orient='records')\n",
    "type(train_dicts)"
   ]
  },
  {
   "cell_type": "code",
   "execution_count": 12,
   "id": "6f5674b4",
   "metadata": {},
   "outputs": [],
   "source": [
    "from sklearn.feature_extraction import DictVectorizer\n",
    "dv = DictVectorizer()\n",
    "X_train = dv.fit_transform(train_dicts)"
   ]
  },
  {
   "cell_type": "code",
   "execution_count": 13,
   "id": "cdf26efd",
   "metadata": {},
   "outputs": [
    {
     "data": {
      "text/plain": [
       "515"
      ]
     },
     "execution_count": 13,
     "metadata": {},
     "output_type": "execute_result"
    }
   ],
   "source": [
    "cols = X_train.shape[1]\n",
    "cols"
   ]
  },
  {
   "attachments": {},
   "cell_type": "markdown",
   "id": "9272c5eb",
   "metadata": {},
   "source": [
    "Q5) Training model, RMSE_train  \n",
    "A: 6.99"
   ]
  },
  {
   "cell_type": "code",
   "execution_count": 14,
   "id": "e963fe2f",
   "metadata": {},
   "outputs": [
    {
     "data": {
      "text/plain": [
       "6.9861908315536585"
      ]
     },
     "execution_count": 14,
     "metadata": {},
     "output_type": "execute_result"
    }
   ],
   "source": [
    "from sklearn.linear_model import LinearRegression\n",
    "from sklearn.metrics import mean_squared_error\n",
    "\n",
    "target = 'duration'\n",
    "y_train = df_clean[target].values\n",
    "\n",
    "lr = LinearRegression()\n",
    "lr.fit(X_train, y_train)\n",
    "\n",
    "y_pred = lr.predict(X_train)\n",
    "\n",
    "rmse = mean_squared_error(y_train, y_pred, squared=False)\n",
    "rmse\n"
   ]
  },
  {
   "attachments": {},
   "cell_type": "markdown",
   "id": "7550b92d",
   "metadata": {},
   "source": [
    "Q6) Evaluating the model, RMSE_validation  \n",
    "A: 7.79"
   ]
  },
  {
   "cell_type": "code",
   "execution_count": 15,
   "id": "c73195a3",
   "metadata": {},
   "outputs": [],
   "source": [
    "from typing import Tuple, Optional, Any\n",
    "import pandas as pd\n",
    "from sklearn.feature_extraction import DictVectorizer\n",
    "\n",
    "# Hard time finding the correct types being returned\n",
    "\n",
    "\n",
    "def process_data(parquet_filename: str, vectorizer=None) -> Tuple[Any, Any, Optional[DictVectorizer]]:\n",
    "    df = pd.read_parquet(parquet_filename)\n",
    "    df['duration'] = df.tpep_dropoff_datetime - df.tpep_pickup_datetime\n",
    "    df.duration = df.duration.apply(lambda td: td.total_seconds() / 60)\n",
    "\n",
    "    df_clean = df[(df.duration >= 1) & (df.duration <= 60)]\n",
    "    categorical = ['PULocationID', 'DOLocationID']\n",
    "    df_clean[categorical] = df_clean[categorical].astype(str)\n",
    "    df_train = df_clean[categorical]\n",
    "    train_dicts = df_train.to_dict(orient='records')\n",
    "    \n",
    "    if not vectorizer:\n",
    "    # dictionary vectorizer not provided, treat as training job\n",
    "        vectorizer = DictVectorizer()\n",
    "        X_train = vectorizer.fit_transform(train_dicts)\n",
    "    else:\n",
    "    # dictionary vectorizer provided, treat as validation job\n",
    "        X_train = vectorizer.transform(train_dicts)\n",
    "        \n",
    "\n",
    "    target = 'duration'\n",
    "    y_train = df_clean[target].values\n",
    "    \n",
    "    return X_train, y_train, vectorizer\n",
    "    "
   ]
  },
  {
   "cell_type": "code",
   "execution_count": 16,
   "id": "a72c99d4",
   "metadata": {},
   "outputs": [
    {
     "name": "stderr",
     "output_type": "stream",
     "text": [
      "/var/folders/w5/103dbchj5sb_529bq4km5drc0000gp/T/ipykernel_77471/2423312881.py:15: SettingWithCopyWarning: \n",
      "A value is trying to be set on a copy of a slice from a DataFrame.\n",
      "Try using .loc[row_indexer,col_indexer] = value instead\n",
      "\n",
      "See the caveats in the documentation: https://pandas.pydata.org/pandas-docs/stable/user_guide/indexing.html#returning-a-view-versus-a-copy\n",
      "  df_clean[categorical] = df_clean[categorical].astype(str)\n",
      "/var/folders/w5/103dbchj5sb_529bq4km5drc0000gp/T/ipykernel_77471/2423312881.py:15: SettingWithCopyWarning: \n",
      "A value is trying to be set on a copy of a slice from a DataFrame.\n",
      "Try using .loc[row_indexer,col_indexer] = value instead\n",
      "\n",
      "See the caveats in the documentation: https://pandas.pydata.org/pandas-docs/stable/user_guide/indexing.html#returning-a-view-versus-a-copy\n",
      "  df_clean[categorical] = df_clean[categorical].astype(str)\n"
     ]
    }
   ],
   "source": [
    "X_train, y_train, dv_train = process_data(parquet_filename='yellow_tripdata_2022-01.parquet')\n",
    "X_test, y_test, _ = process_data(parquet_filename='yellow_tripdata_2022-02.parquet', vectorizer=dv_train)"
   ]
  },
  {
   "cell_type": "code",
   "execution_count": 17,
   "id": "d0fd01e0",
   "metadata": {},
   "outputs": [
    {
     "data": {
      "text/plain": [
       "7.786409148550689"
      ]
     },
     "execution_count": 17,
     "metadata": {},
     "output_type": "execute_result"
    }
   ],
   "source": [
    "from sklearn.linear_model import LinearRegression\n",
    "from sklearn.metrics import mean_squared_error\n",
    "\n",
    "lr = LinearRegression()\n",
    "lr.fit(X_train, y_train)\n",
    "\n",
    "y_pred = lr.predict(X_test)\n",
    "\n",
    "rmse = mean_squared_error(y_test, y_pred, squared=False)\n",
    "rmse"
   ]
  }
 ],
 "metadata": {
  "kernelspec": {
   "display_name": "Python 3 (ipykernel)",
   "language": "python",
   "name": "python3"
  },
  "language_info": {
   "codemirror_mode": {
    "name": "ipython",
    "version": 3
   },
   "file_extension": ".py",
   "mimetype": "text/x-python",
   "name": "python",
   "nbconvert_exporter": "python",
   "pygments_lexer": "ipython3",
   "version": "3.8.12"
  }
 },
 "nbformat": 4,
 "nbformat_minor": 5
}
