{
 "cells": [
  {
   "attachments": {},
   "cell_type": "markdown",
   "metadata": {},
   "source": [
    "### Using Poetry to manage this repo\n",
    "See dependencies on the [pyproject.toml](../pyproject.toml) file\n"
   ]
  },
  {
   "attachments": {},
   "cell_type": "markdown",
   "metadata": {},
   "source": [
    "Q1) Install mlflow  \n",
    "A: version = `2.3.2`"
   ]
  },
  {
   "cell_type": "code",
   "execution_count": 7,
   "metadata": {},
   "outputs": [
    {
     "name": "stdout",
     "output_type": "stream",
     "text": [
      "mlflow, version 2.3.2\n"
     ]
    }
   ],
   "source": [
    "!mlflow --version"
   ]
  },
  {
   "attachments": {},
   "cell_type": "markdown",
   "metadata": {},
   "source": [
    "Q2) Preparing the data  \n",
    "A: `dv.pkl` ~ 154Kb"
   ]
  },
  {
   "cell_type": "code",
   "execution_count": null,
   "metadata": {},
   "outputs": [],
   "source": [
    "# Download source data\n",
    "# !wget https://d37ci6vzurychx.cloudfront.net/trip-data/green_tripdata_2022-01.parquet\n",
    "# !wget https://d37ci6vzurychx.cloudfront.net/trip-data/green_tripdata_2022-02.parquet\n",
    "# !wget https://d37ci6vzurychx.cloudfront.net/trip-data/green_tripdata_2022-03.parquet"
   ]
  },
  {
   "cell_type": "code",
   "execution_count": 1,
   "metadata": {},
   "outputs": [
    {
     "name": "stdout",
     "output_type": "stream",
     "text": [
      "/Users/marcellovictorino/Projects/mlops_zoomcamp_2023/.venv/bin/python: can't open file 'week2_Experiment_Tracking/preprocess_data.py': [Errno 2] No such file or directory\n"
     ]
    }
   ],
   "source": [
    "! poetry run python week2_Experiment_Tracking/preprocess_data.py --raw_data_path week2_Experiment_Tracking/source_data --dest_path week2_Experiment_Tracking/output"
   ]
  },
  {
   "cell_type": "code",
   "execution_count": 4,
   "metadata": {},
   "outputs": [
    {
     "name": "stdout",
     "output_type": "stream",
     "text": [
      "total 17320\n",
      "-rw-r--r--  1 marcellovictorino  staff   150K May 26 14:58 dv.pkl\n",
      "-rw-r--r--  1 marcellovictorino  staff   2.5M May 26 14:58 test.pkl\n",
      "-rw-r--r--  1 marcellovictorino  staff   2.0M May 26 14:58 train.pkl\n",
      "-rw-r--r--  1 marcellovictorino  staff   2.2M May 26 14:58 val.pkl\n"
     ]
    }
   ],
   "source": [
    "!ls -lh output   "
   ]
  },
  {
   "attachments": {},
   "cell_type": "markdown",
   "metadata": {},
   "source": [
    "Q3) Training model with autolog  \n",
    "A: `max_depth` = 10"
   ]
  },
  {
   "attachments": {},
   "cell_type": "markdown",
   "metadata": {},
   "source": [
    "Running the command on a separate shell to serve UI:  \n",
    "`poetry run mlflow ui --backend-store-uri=sqlite:///mlflow.db`"
   ]
  },
  {
   "attachments": {},
   "cell_type": "markdown",
   "metadata": {},
   "source": [
    "![Alt text](images/mlflow%20experiment%20metadata.png)"
   ]
  },
  {
   "attachments": {},
   "cell_type": "markdown",
   "metadata": {},
   "source": [
    "Q4) Tune model hyperparameters\n",
    "A: `best RMSE` = 2.45"
   ]
  },
  {
   "attachments": {},
   "cell_type": "markdown",
   "metadata": {},
   "source": [
    "Running the command to execute the `hyper_parameter_tuning.py` script (`hpo.py`):\n",
    "`poetry run python week2_Experiment_Tracking/hyper_parameter_tuning.py --data_path week2_Experiment_Tracking/output`\n",
    "\n",
    "![Alt text](images/mlflow%20hyperparameter%20tuning.png)"
   ]
  },
  {
   "attachments": {},
   "cell_type": "markdown",
   "metadata": {},
   "source": [
    "Q5) Model registry  \n",
    "A: best model `test_rmse` = 2.185 (should be 2.285!?)"
   ]
  },
  {
   "attachments": {},
   "cell_type": "markdown",
   "metadata": {},
   "source": [
    "Running the command to execute `register_model.py`\n",
    "`poetry run python week2_Experiment_Tracking/register_model.py --data_path week2_Experiment_Tracking/output`\n",
    "![Alt text](images/mlflow%20best%20model%20test%20rmse.png)\n",
    "\n",
    "> Note: I tried deleting an experiment and running it again, but the name was stuck in \"delete stage\". Running `mlflow gc` nor `rm -rf mlruns/.trash` solved the issue"
   ]
  },
  {
   "attachments": {},
   "cell_type": "markdown",
   "metadata": {},
   "source": [
    "Q6) Model registry UI  \n",
    "A: `model version`\n",
    "\n",
    "> The model registry seems **very** basic, just keeping track of each `version`, its respective stage (staging, production), last_modified, and tags.\n",
    ">\n",
    "> Each version contains more information, linking to the `source run`. The actual run contains rich information (parameters, metrics, artifacts, serialised model)"
   ]
  }
 ],
 "metadata": {
  "kernelspec": {
   "display_name": ".venv",
   "language": "python",
   "name": "python3"
  },
  "language_info": {
   "codemirror_mode": {
    "name": "ipython",
    "version": 3
   },
   "file_extension": ".py",
   "mimetype": "text/x-python",
   "name": "python",
   "nbconvert_exporter": "python",
   "pygments_lexer": "ipython3",
   "version": "3.8.12"
  },
  "orig_nbformat": 4
 },
 "nbformat": 4,
 "nbformat_minor": 2
}
