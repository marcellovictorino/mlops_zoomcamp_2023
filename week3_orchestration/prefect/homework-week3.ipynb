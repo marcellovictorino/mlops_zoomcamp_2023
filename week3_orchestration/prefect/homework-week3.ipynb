{
 "cells": [
  {
   "attachments": {},
   "cell_type": "markdown",
   "metadata": {},
   "source": [
    "Q1) Human readable name:  \n",
    "A: `@task(retries=3, retry_delay_seconds=2, name=\"Read taxi data\")`\n",
    "just using the `name` parameters for the `@task` decorator"
   ]
  },
  {
   "attachments": {},
   "cell_type": "markdown",
   "metadata": {},
   "source": [
    "Q2) Cron  \n",
    "A: `0 9 3 * *`\n",
    "Can be added via the UI or through the respective `deployment.yaml` file, under the `schedule` section"
   ]
  },
  {
   "attachments": {},
   "cell_type": "markdown",
   "metadata": {},
   "source": [
    "Q3) RMSE  \n",
    "A: 5.19931\n",
    "\n",
    "![Alt text](images/prefect%20rmse.png)"
   ]
  },
  {
   "attachments": {},
   "cell_type": "markdown",
   "metadata": {},
   "source": [
    "Q4) RMSE (markdown artifact)  \n",
    "A: 5.37\n",
    "\n",
    "\n",
    "![Alt text](images/prefect%20markdown%20artifact.png)"
   ]
  },
  {
   "attachments": {},
   "cell_type": "markdown",
   "metadata": {},
   "source": [
    "Q5) Email  \n",
    "A: `email_send_message`, imported from `prefect_email` (extra package installed via pip)"
   ]
  },
  {
   "attachments": {},
   "cell_type": "markdown",
   "metadata": {},
   "source": [
    "Q6) Prefect Cloud  \n",
    "A: `Actions` (The second step setting up an automation)\n",
    "\n",
    "![Alt text](images/prefect%20cloud%20automation%20setup.png)"
   ]
  }
 ],
 "metadata": {
  "language_info": {
   "name": "python"
  },
  "orig_nbformat": 4
 },
 "nbformat": 4,
 "nbformat_minor": 2
}
